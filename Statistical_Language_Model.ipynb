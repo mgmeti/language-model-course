{
  "nbformat": 4,
  "nbformat_minor": 0,
  "metadata": {
    "colab": {
      "provenance": [],
      "authorship_tag": "ABX9TyMvsEHRv0JZabE2JbIfnOPg",
      "include_colab_link": true
    },
    "kernelspec": {
      "name": "python3",
      "display_name": "Python 3"
    },
    "language_info": {
      "name": "python"
    }
  },
  "cells": [
    {
      "cell_type": "markdown",
      "metadata": {
        "id": "view-in-github",
        "colab_type": "text"
      },
      "source": [
        "<a href=\"https://colab.research.google.com/github/mgmeti/language-model-course/blob/main/Statistical_Language_Model.ipynb\" target=\"_parent\"><img src=\"https://colab.research.google.com/assets/colab-badge.svg\" alt=\"Open In Colab\"/></a>"
      ]
    },
    {
      "cell_type": "markdown",
      "source": [
        "Bigram Language Model:\n",
        "The problem of zero probability can be overcome by 'SMOOTHING'\n",
        "<br>\n",
        "1.   Laplace Smoothing\n",
        "2.   Good Turing\n",
        "\n",
        "\n"
      ],
      "metadata": {
        "id": "wI2uLtljKLPR"
      }
    },
    {
      "cell_type": "code",
      "execution_count": null,
      "metadata": {
        "id": "m-n7WmV9J8zp"
      },
      "outputs": [],
      "source": [
        "def readData():\n",
        "  data = [\"This is a dog\", \"This is a cat\", \"This is a bird\", \"i love pets\", \"this is my name\"]\n",
        "  dat = []\n",
        "  for i in range(len(data)):\n",
        "    for word in data[i].split():\n",
        "      dat.append(word)\n",
        "  print(dat)\n",
        "  return dat\n"
      ]
    },
    {
      "cell_type": "code",
      "source": [
        "def createBigram(data):\n",
        "  listOfBigram = []\n",
        "  bigramCounts = {}\n",
        "  unigramCounts = {}\n",
        "  for i in range(len(data)-1):\n",
        "    if i < len(data) - 1 and data[i + 1].islower():\n",
        "      listOfBigram.append((data[i], data[i +1]))\n",
        "      if (data[i], data[i + 1]) in bigramCounts:\n",
        "        bigramCounts[(data[i], data[i + 1])] += 1\n",
        "      else:\n",
        "        bigramCounts[(data[i], data[i + 1])] = 1\n",
        "      if data[i] in unigramCounts:\n",
        "        unigramCounts[data[i]] +=  1\n",
        "      else:\n",
        "        unigramCounts[data[i]] = 1\n",
        "  return listOfBigram, unigramCounts, bigramCounts\n",
        "\n"
      ],
      "metadata": {
        "id": "fUVyXRQ1KMyW"
      },
      "execution_count": null,
      "outputs": []
    },
    {
      "cell_type": "code",
      "source": [
        "\n",
        "def calcBigramProb(listOfBigrams, unigramCounts, bigramCounts):\n",
        "    listOfProb = {}\n",
        "    for bigram in listOfBigrams:\n",
        "        word1 = bigram[0]\n",
        "        word2 = bigram[1]\n",
        "        listOfProb[bigram] = (bigramCounts.get(bigram))/(unigramCounts.get(word1))\n",
        "    return listOfProb"
      ],
      "metadata": {
        "id": "gjTay9IpVbNP"
      },
      "execution_count": null,
      "outputs": []
    },
    {
      "cell_type": "code",
      "source": [
        "if __name__ == '__main__':\n",
        "  data = readData()\n",
        "  listOfBigrams, unigramCounts, bigramCounts = createBigram(data)\n",
        "\n",
        "  print(\"\\n All the possible Bigrams are \")\n",
        "  print(listOfBigrams)\n",
        "\n",
        "  print(\"\\n Bigrams along with their frequency \")\n",
        "  print(bigramCounts)\n",
        "\n",
        "  print(\"\\n Unigrams along with their frequency \")\n",
        "  print(unigramCounts)\n",
        "\n",
        "  bigramProb = calcBigramProb(listOfBigrams, unigramCounts, bigramCounts)\n",
        "\n",
        "  print(\"\\n Bigrams along with their probability \")\n",
        "  print(bigramProb)\n",
        "\n",
        "  inputList=\"This is my cat\"\n",
        "  splt=inputList.split()\n",
        "  outputProb1 = 1\n",
        "  bilist=[]\n",
        "  bigrm=[]\n",
        "\n",
        "  for i in range(len(splt) - 1):\n",
        "      if i < len(splt) - 1:\n",
        "        bilist.append((splt[i], splt[i + 1]))\n",
        "\n",
        "  print(bilist, bigrm)"
      ],
      "metadata": {
        "colab": {
          "base_uri": "https://localhost:8080/"
        },
        "id": "oKRrN_m2Vulj",
        "outputId": "8fb0921e-3284-4d2f-a9c6-3ae428605bb2"
      },
      "execution_count": null,
      "outputs": [
        {
          "output_type": "stream",
          "name": "stdout",
          "text": [
            "['This', 'is', 'a', 'dog', 'This', 'is', 'a', 'cat', 'This', 'is', 'a', 'bird', 'i', 'love', 'pets', 'this', 'is', 'my', 'name']\n",
            "\n",
            " All the possible Bigrams are \n",
            "[('This', 'is'), ('is', 'a'), ('a', 'dog'), ('This', 'is'), ('is', 'a'), ('a', 'cat'), ('This', 'is'), ('is', 'a'), ('a', 'bird'), ('bird', 'i'), ('i', 'love'), ('love', 'pets'), ('pets', 'this'), ('this', 'is'), ('is', 'my'), ('my', 'name')]\n",
            "\n",
            " Bigrams along with their frequency \n",
            "{('This', 'is'): 3, ('is', 'a'): 3, ('a', 'dog'): 1, ('a', 'cat'): 1, ('a', 'bird'): 1, ('bird', 'i'): 1, ('i', 'love'): 1, ('love', 'pets'): 1, ('pets', 'this'): 1, ('this', 'is'): 1, ('is', 'my'): 1, ('my', 'name'): 1}\n",
            "\n",
            " Unigrams along with their frequency \n",
            "{'This': 3, 'is': 4, 'a': 3, 'bird': 1, 'i': 1, 'love': 1, 'pets': 1, 'this': 1, 'my': 1}\n",
            "\n",
            " Bigrams along with their probability \n",
            "{('This', 'is'): 1.0, ('is', 'a'): 0.75, ('a', 'dog'): 0.3333333333333333, ('a', 'cat'): 0.3333333333333333, ('a', 'bird'): 0.3333333333333333, ('bird', 'i'): 1.0, ('i', 'love'): 1.0, ('love', 'pets'): 1.0, ('pets', 'this'): 1.0, ('this', 'is'): 1.0, ('is', 'my'): 0.25, ('my', 'name'): 1.0}\n",
            "[('This', 'is'), ('is', 'my'), ('my', 'cat')] []\n"
          ]
        }
      ]
    },
    {
      "cell_type": "code",
      "source": [
        "x = ['apple', 'banana', 'fig', 'mango']\n",
        "longest = max(x, key=len)\n",
        "print(longest)"
      ],
      "metadata": {
        "colab": {
          "base_uri": "https://localhost:8080/"
        },
        "id": "wV0SMf_3WBxq",
        "outputId": "283b0388-78ca-441a-8c9b-855ca3aa81e3"
      },
      "execution_count": null,
      "outputs": [
        {
          "output_type": "stream",
          "name": "stdout",
          "text": [
            "banana\n"
          ]
        }
      ]
    },
    {
      "cell_type": "code",
      "source": [
        "def tokenise(string):\n",
        "  tokens = string.split()\n",
        "  \n",
        "  for token in tokens:\n",
        "    print(token)\n",
        "\n"
      ],
      "metadata": {
        "id": "A-zAwTEfcsfm"
      },
      "execution_count": null,
      "outputs": []
    },
    {
      "cell_type": "code",
      "source": [
        "text = 'I have taken language model course'\n",
        "tokenise(text)"
      ],
      "metadata": {
        "colab": {
          "base_uri": "https://localhost:8080/"
        },
        "id": "XuluAoD95eig",
        "outputId": "dbdab181-e40c-49b5-b145-aae7b247c27b"
      },
      "execution_count": null,
      "outputs": [
        {
          "output_type": "stream",
          "name": "stdout",
          "text": [
            "I\n",
            "have\n",
            "taken\n",
            "language\n",
            "model\n",
            "course\n"
          ]
        }
      ]
    },
    {
      "cell_type": "code",
      "source": [],
      "metadata": {
        "id": "D1imj1i-5i9l"
      },
      "execution_count": null,
      "outputs": []
    }
  ]
}